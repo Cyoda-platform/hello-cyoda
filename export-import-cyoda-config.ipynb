{
 "cells": [
  {
   "cell_type": "markdown",
   "metadata": {},
   "source": [
    "# Exporting the Cyoda configuration from a given environment\n",
    "To avoid a prompt for the password, you can set an environment variable `DEMO_USER_PASSWD`, for example in your personal github Codespace Secrets."
   ]
  },
  {
   "cell_type": "code",
   "execution_count": null,
   "metadata": {},
   "outputs": [],
   "source": [
    "import getpass\n",
    "import sys\n",
    "import os\n",
    "from pathlib import Path\n",
    "\n",
    "# Replace these with the settings for your environment\n",
    "host = 'http://localhost:8082/api'\n",
    "user = 'demo.user'\n",
    "\n",
    "password = os.getenv('DEMO_USER_PASSWD')\n",
    "\n",
    "# If the environment variable is not set, check the password file\n",
    "if not password:\n",
    "    password_file = Path('/Users/paul/.cyoda/demo.passwd')\n",
    "\n",
    "    if password_file.exists():\n",
    "        # Read the password from the file\n",
    "        with password_file.open('r') as file:\n",
    "            password = file.read().rstrip()\n",
    "    else:\n",
    "        # Prompt for credentials when no env variable or file is available\n",
    "        password = getpass.getpass(\"Enter your password: \")\n",
    "\n",
    "\n",
    "target_dir = 'src/main/resources/cyoda/config/nobel-prizes/cyoda-config'\n",
    "\n",
    "!{sys.executable} src/tools/cyoda_config_ctl.py \\\n",
    "    -m export \\\n",
    "    -host \"{host}\" \\\n",
    "    -u \"{user}\" \\\n",
    "    -pw \"{password}\" \\\n",
    "    -fd \"{target_dir}\" \\\n",
    "    --need_to_export_state_machine true"
   ]
  },
  {
   "cell_type": "markdown",
   "metadata": {},
   "source": [
    "# Importing the Cyoda configuration to a target environment"
   ]
  },
  {
   "cell_type": "code",
   "execution_count": null,
   "metadata": {},
   "outputs": [],
   "source": [
    "import getpass\n",
    "import sys\n",
    "import os\n",
    "from pathlib import Path\n",
    "\n",
    "# Replace these with the settings for your environment\n",
    "host = 'http://localhost:8082/api'\n",
    "user = 'demo.user'\n",
    "password = os.getenv('DEMO_USER_PASSWD')\n",
    "\n",
    "# If the environment variable is not set, check the password file\n",
    "if not password:\n",
    "    password_file = Path('/Users/paul/.cyoda/demo.passwd')\n",
    "\n",
    "    if password_file.exists():\n",
    "        # Read the password from the file\n",
    "        with password_file.open('r') as file:\n",
    "            password = file.read().rstrip()\n",
    "    else:\n",
    "        # Prompt for credentials when no env variable or file is available\n",
    "        password = getpass.getpass(\"Enter your password: \")\n",
    "    \n",
    "!{sys.executable} src/tools/cyoda_config_ctl.py \\\n",
    "    -m 'import' \\\n",
    "    -host \"{host}\" \\\n",
    "    -u \"{user}\" \\\n",
    "    -pw \"{password}\" \\\n",
    "    -fd \"{target_dir}\" \\\n",
    "    --need_to_import_state_machine true"
   ]
  },
  {
   "cell_type": "code",
   "execution_count": null,
   "metadata": {},
   "outputs": [],
   "source": []
  }
 ],
 "metadata": {
  "kernelspec": {
   "display_name": "Python 3 (ipykernel)",
   "language": "python",
   "name": "python3"
  },
  "language_info": {
   "codemirror_mode": {
    "name": "ipython",
    "version": 3
   },
   "file_extension": ".py",
   "mimetype": "text/x-python",
   "name": "python",
   "nbconvert_exporter": "python",
   "pygments_lexer": "ipython3",
   "version": "3.12.3"
  }
 },
 "nbformat": 4,
 "nbformat_minor": 4
}
